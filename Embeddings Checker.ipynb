{
  "nbformat": 4,
  "nbformat_minor": 0,
  "metadata": {
    "colab": {
      "provenance": [],
      "collapsed_sections": [],
      "include_colab_link": true
    },
    "kernelspec": {
      "name": "python3",
      "display_name": "Python 3"
    },
    "language_info": {
      "name": "python"
    }
  },
  "cells": [
    {
      "cell_type": "markdown",
      "metadata": {
        "id": "view-in-github",
        "colab_type": "text"
      },
      "source": [
        "<a href=\"https://colab.research.google.com/github/SingeWarden/Embeddings-Checker/blob/main/Embeddings%20Checker.ipynb\" target=\"_parent\"><img src=\"https://colab.research.google.com/assets/colab-badge.svg\" alt=\"Open In Colab\"/></a>"
      ]
    },
    {
      "cell_type": "markdown",
      "source": [
        "#EMBEDDING STORAGE\n",
        "\n",
        "The below cells store, generate, and scan the embeddings files.\n",
        "Original script created by @BeansBeansBeans\n",
        "\n",
        "Upload your embeddings file (should be named embeddings.pt) to /content/ and the output will be in /content/"
      ],
      "metadata": {
        "id": "sxLzyWMS9AZ0"
      }
    },
    {
      "cell_type": "code",
      "source": [
        "import os\n",
        "\n",
        "!pip install fickling &> /dev/null\n",
        "fileToEncode = \"/content/embeddings.pt\"\n",
        "fileName = \"embeddings.pt\"\n",
        "\n",
        "generate = True\n",
        "## Create the base64 string and print it to the cell output.  \n",
        "## This is where the contents of \"b64\" came from.  \n",
        "if os.path.exists(fileToEncode) and generate:\n",
        "  !unzip -p -q -j \"{fileToEncode}\" archive/data.pkl | fickling -\n",
        "  !zip -q - \"{fileToEncode}\" | base64 > \"/content/{fileName}.zb64\"\n",
        "  !sha256sum \"{fileToEncode}\" \n",
        "  b64 = ''\n",
        "  with open(f\"/content/{fileName}.zb64\", \"r\") as fileb64:\n",
        "    for line in fileb64:\n",
        "      b64 += line.strip()\n",
        "  print(b64)\n",
        "\n",
        "else:\n",
        "  raise Exception(\"File not found in /content/\")\n",
        "\n",
        "with open(f\"/content/{fileName}.zb64\", \"w\") as outFile:\n",
        "  outFile.write(b64)\n",
        "\n",
        "!cat \"/content/{fileName}.zb64\" | base64 -d > \"/content/{fileName}.zip\"\n",
        "!unzip -p \"/content/{fileName}.zip\" > \"/content/{fileName}\"\n",
        "!rm \"/content/{fileName}.zb64\"\n",
        "!rm \"/content/{fileName}.zip\"\n",
        "#This section scans the embedding that was just inflated\n",
        "!unzip -p -q -j \"/content/{fileName}\" archive/data.pkl | fickling -\n",
        "!echo \"sha256sum /content/{fileName}\"\n",
        "!sha256sum \"/content/{fileName}\""
      ],
      "metadata": {
        "colab": {
          "base_uri": "https://localhost:8080/"
        },
        "id": "qh89LMa_9O5J",
        "outputId": "4a914ce4-5756-4c08-d6e9-8c24863ce387"
      },
      "execution_count": null,
      "outputs": [
        {
          "output_type": "stream",
          "name": "stdout",
          "text": [
            "\n",
            "from torch._utils import _rebuild_tensor_v2\n",
            "from torch import LongStorage\n",
            "from collections import OrderedDict\n",
            "_var0 = OrderedDict()\n",
            "_var1 = _rebuild_tensor_v2(UNPICKLER.persistent_load(('storage', LongStorage, '0', 'cpu', 77)), 1, (), (), False, _var0)\n",
            "from torch.nn.modules.container import ParameterDict\n",
            "_var2 = OrderedDict()\n",
            "from torch._utils import _rebuild_parameter\n",
            "from torch import FloatStorage\n",
            "_var3 = OrderedDict()\n",
            "_var4 = _rebuild_tensor_v2(UNPICKLER.persistent_load(('storage', FloatStorage, '1', 'cuda:0', 73728)), 0, (96, 768), (768, 1), False, _var3)\n",
            "_var5 = OrderedDict()\n",
            "_var6 = _rebuild_parameter(_var4, True, _var5)\n",
            "_var7 = _var2\n",
            "_var7['*'] = _var6\n",
            "_var8 = OrderedDict()\n",
            "_var9 = set([])\n",
            "_var10 = OrderedDict()\n",
            "_var11 = OrderedDict()\n",
            "_var12 = OrderedDict()\n",
            "_var13 = OrderedDict()\n",
            "_var14 = OrderedDict()\n",
            "_var15 = OrderedDict()\n",
            "_var16 = OrderedDict()\n",
            "_var17 = ParameterDict()\n",
            "_var17.__setstate__({'training': True, '_parameters': _var7, '_buffers': _var8, '_non_persistent_buffers_set': _var9, '_backward_hooks': _var10, '_is_full_backward_hook': None, '_forward_hooks': _var11, '_forward_pre_hooks': _var12, '_state_dict_hooks': _var13, '_load_state_dict_pre_hooks': _var14, '_load_state_dict_post_hooks': _var15, '_modules': _var16, '_keys': {'*': None}})\n",
            "result = {'string_to_token': {'*': _var1}, 'string_to_param': _var17}\n",
            "\n",
            "sha256sum /content/cartoon_dicks.pt\n",
            "143283ac00375ad688f686181706336cd7b0bc6dd805324939f3c5bdd19c046c  /content/cartoon_dicks.pt\n"
          ]
        }
      ]
    },
    {
      "cell_type": "markdown",
      "source": [
        "You should know that embeddings.pt (and .bin) files will execute code on your system when you import them.  This validation step is an example of how to make 100% sure the contents are not malicious.  Compare the output of the above cell to the text below to verify the contents of the embedding:\n",
        "\n",
        "```from torch._utils import _rebuild_tensor_v2\n",
        "from torch import LongStorage\n",
        "from collections import OrderedDict\n",
        "_var0 = OrderedDict()\n",
        "_var1 = _rebuild_tensor_v2(UNPICKLER.persistent_load(('storage', LongStorage, '0', 'cpu', 77)), 1, (), (), False, _var0)\n",
        "from torch.nn.modules.container import ParameterDict\n",
        "_var2 = OrderedDict()\n",
        "from torch._utils import _rebuild_parameter\n",
        "from torch import FloatStorage\n",
        "_var3 = OrderedDict()\n",
        "_var4 = _rebuild_tensor_v2(UNPICKLER.persistent_load(('storage', FloatStorage, '1', 'cuda:0', 73728)), 0, (96, 768), (768, 1), False, _var3)\n",
        "_var5 = OrderedDict()\n",
        "_var6 = _rebuild_parameter(_var4, True, _var5)\n",
        "_var7 = _var2\n",
        "_var7['*'] = _var6\n",
        "_var8 = OrderedDict()\n",
        "_var9 = set([])\n",
        "_var10 = OrderedDict()\n",
        "_var11 = OrderedDict()\n",
        "_var12 = OrderedDict()\n",
        "_var13 = OrderedDict()\n",
        "_var14 = OrderedDict()\n",
        "_var15 = OrderedDict()\n",
        "_var16 = OrderedDict()\n",
        "_var17 = ParameterDict()\n",
        "_var17.__setstate__({'training': True, '_parameters': _var7, '_buffers': _var8, '_non_persistent_buffers_set': _var9, '_backward_hooks': _var10, '_is_full_backward_hook': None, '_forward_hooks': _var11, '_forward_pre_hooks': _var12, '_state_dict_hooks': _var13, '_load_state_dict_pre_hooks': _var14, '_load_state_dict_post_hooks': _var15, '_modules': _var16, '_keys': {'*': None}})\n",
        "result = {'string_to_token': {'*': _var1}, 'string_to_param': _var17}\n",
        "\n",
        "sha256sum /content/cartoon_dicks.pt\n",
        "143283ac00375ad688f686181706336cd7b0bc6dd805324939f3c5bdd19c046c  /content/cartoon_dicks.pt\n",
        "```\n",
        "\n"
      ],
      "metadata": {
        "id": "6HrpGfXeBHh3"
      }
    }
  ]
}